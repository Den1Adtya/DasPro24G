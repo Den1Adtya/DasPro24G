{
 "cells": [
  {
   "cell_type": "code",
   "execution_count": null,
   "id": "cb0a723b-a120-4cb4-b6fb-bc66923a9ef8",
   "metadata": {},
   "outputs": [],
   "source": [
    "angka1 = int(input(\"angka 1:\"))\n",
    "angka2 = int(input(\"angka 2:\"))\n",
    "try:\n",
    "    hasil = angka1 / angka2\n",
    "except ZeroDivisionError:\n",
    "    print (\"tidak boleh pembagian dengan 0\")\n",
    "else:\n",
    "    print(f\"hasil pembagian {angka1} dan {angka2} = {hasil}\")\n",
    "finally:\n",
    "    print(\"program selesai\")"
   ]
  },
  {
   "cell_type": "code",
   "execution_count": null,
   "id": "0ee8de74-8d20-492b-b45d-03229fd9aa8f",
   "metadata": {},
   "outputs": [],
   "source": [
    "try:\n",
    "    angka1 = int(input(\"angka 1:\"))\n",
    "    angka2 = int(input(\"angka 2:\"))\n",
    "    hasil = angka1 / angka2\n",
    "except (ValueError,ZeroDivisionError) as err:\n",
    "    print(err)\n",
    "else:\n",
    "    print(f\"hasil pembagian {angka1} dan {angka2} = {hasil}\")\n",
    "finally:\n",
    "    print(\"program selesai\")"
   ]
  },
  {
   "cell_type": "code",
   "execution_count": null,
   "id": "40798c97-c90e-4da2-83d7-bc4a79f6e60d",
   "metadata": {},
   "outputs": [],
   "source": [
    "#indeks error\n",
    "list = [8,3,6]\n",
    "try:\n",
    "    print(list[3])\n",
    "except IndexError:\n",
    "    print(\"Lewih Teing\")\n",
    "finally:\n",
    "    print(\"program selesai\")"
   ]
  },
  {
   "cell_type": "code",
   "execution_count": 1,
   "id": "d875b67d-49b0-48bb-bb1b-cdc542ad09c8",
   "metadata": {},
   "outputs": [
    {
     "name": "stdin",
     "output_type": "stream",
     "text": [
      "jumlah data yang akan dimasukkan: 1\n",
      "isikan nama siswa deni\n",
      "No urut berapa yang akan ditampilkan? 2\n"
     ]
    },
    {
     "name": "stdout",
     "output_type": "stream",
     "text": [
      "list index out of range\n",
      "Load Data Selesai\n"
     ]
    }
   ],
   "source": [
    "try:\n",
    "    jumlahData = int(input('jumlah data yang akan dimasukkan:'))\n",
    "    listNama = []\n",
    "    for i in range (0,jumlahData):\n",
    "        nama= input (\"isikan nama siswa\")\n",
    "        listNama.append(nama)\n",
    "    indeks = int(input(\"No urut berapa yang akan ditampilkan?\"))\n",
    "    print (f\"Nama Siswa ke{indeks} : {listNama[indeks-1]}\")\n",
    "except (ValueError,IndexError)as err:\n",
    "    print(err)\n",
    "else:\n",
    "    print(listNama)\n",
    "finally:\n",
    "    print(\"Load Data Selesai\")"
   ]
  },
  {
   "cell_type": "code",
   "execution_count": null,
   "id": "63b6ef8f-4e13-4092-9e0a-9bfb32ad6b18",
   "metadata": {},
   "outputs": [],
   "source": [
    "#key error\n",
    "data = {\n",
    "    'day' : ['mon','tue','wed','thu','fri','sat']\n",
    "}\n",
    "try:\n",
    "    print(data['month'])\n",
    "except KeyError:\n",
    "    print(\"tidak ada atribut yang sama\")\n",
    "else:\n",
    "    print(data)\n",
    "finally:\n",
    "    print(\"Program Selesai\")"
   ]
  },
  {
   "cell_type": "code",
   "execution_count": null,
   "id": "d535841a-1111-40d1-9321-82987f92dd46",
   "metadata": {},
   "outputs": [],
   "source": [
    "#special exception\n",
    "class UmurException(Exception):\n",
    "    pass\n",
    "def cekUmur(umur):\n",
    "    if (umur<=17):\n",
    "        raise UmurException(\"Film Dewasa harus diatas 17 tahun\")\n",
    "\n",
    "try:\n",
    "    cekUmur(20)\n",
    "    print(\"Selamat Datang\")\n",
    "except UmurException as ue:\n",
    "    print(ue)\n",
    "else:\n",
    "    print(\"pilih film sesuai umur anda\")\n",
    "finally:\n",
    "    print(\"Program Selesai\")"
   ]
  },
  {
   "cell_type": "code",
   "execution_count": null,
   "id": "b531e34f-9f07-4169-b4b7-5d8180abf468",
   "metadata": {},
   "outputs": [],
   "source": [
    "#file handling\n",
    "#open(nama_file,mode) -> file dengan tipe plain teks\n",
    "#mode -> a (append) , r (read), w (write)\n",
    "\n",
    "try:\n",
    "    f = open ('data_calon_nasabah.csv','r')\n",
    "    teks = f.read()\n",
    "    print(teks)\n",
    "except FileNotFoundError:\n",
    "    print (\"file tidak ditemukan\")\n",
    "else:\n",
    "    print(\"load data selesai\")\n",
    "finally:\n",
    "    f.close()"
   ]
  },
  {
   "cell_type": "code",
   "execution_count": null,
   "id": "304cb704-e6b7-423e-880b-f6d160ea867b",
   "metadata": {},
   "outputs": [],
   "source": [
    "try:\n",
    "    with open('data.txt','w') as f:\n",
    "        f.write(\"apa kabar !!!\\n\")\n",
    "        f.write(\"semoga kabarmu baik hari ini !!\\n\")\n",
    "        f.write(\"sebentar lagi kita uas !\\n\")\n",
    "except FileNotFoundError:\n",
    "    print(\"File tidak ditemukan\")\n",
    "else:\n",
    "    print(\"Data Berhasil Diubah\")\n",
    "finally:\n",
    "    print(\"Proses Selesai\")"
   ]
  },
  {
   "cell_type": "code",
   "execution_count": null,
   "id": "676c9bf2-1af6-40be-9f83-b55bfb2253a9",
   "metadata": {},
   "outputs": [],
   "source": [
    "import pandas as pd\n",
    "import numpy as np\n",
    "#Library visual -> Matplotlib & Seaborn\n",
    "import matplotlib.pyplot as plt\n",
    "\n",
    "np.random.seed(42)\n",
    "bulan = ['Jan','Feb','Mar','Apr','May','Jun','Jul','Aug','Sep','Oct','Nov','Dec',]\n",
    "Minggu1 = np.random.randint(200000,500001,12)\n",
    "Minggu2 = np.random.randint(200000,500001,12)\n",
    "Minggu3 = np.random.randint(200000,500001,12)\n",
    "Minggu4 = np.random.randint(200000,500001,12)\n",
    "\n",
    "data = {\n",
    "    'Bulan' : bulan,\n",
    "    'Minggu_1' : Minggu1,\n",
    "    'Minggu_2' : Minggu2,\n",
    "    'Minggu_3' : Minggu3,\n",
    "    'Minggu_4' : Minggu4\n",
    "}\n",
    "\n",
    "df = pd.DataFrame(data)\n",
    "\n",
    "df['Total_Pengeluaran'] = df [['Minggu_1','Minggu_2','Minggu_3','Minggu_4']].sum(axis=1)\n",
    "\n",
    "df.head()"
   ]
  },
  {
   "cell_type": "code",
   "execution_count": null,
   "id": "547e6b35-1bc9-4385-8704-3d3b28f1e157",
   "metadata": {},
   "outputs": [],
   "source": [
    "#Diagram Bar -> proses perbandingan\n",
    "\n",
    "#buat canvas\n",
    "plt.figure(figsize=(12,6)) #width,height->inch\n",
    "plt.bar(df['Bulan'], df['Total_Pengeluaran'], color='skyblue')\n",
    "plt.title(\"Pengeluaran Mahasiswa Perbulan\")\n",
    "plt.xticks(rotation=-45)\n",
    "plt.tight_layout()\n",
    "plt.show()"
   ]
  },
  {
   "cell_type": "code",
   "execution_count": null,
   "id": "1459256d-40d1-45c1-b259-12ad9a8c5db6",
   "metadata": {},
   "outputs": [],
   "source": [
    "plt.figure(figsize=(12,4))\n",
    "\n",
    "for minggu in ['Minggu_1','Minggu_2','Minggu_3','Minggu_4',]:\n",
    "    plt.plot(df['Bulan'],df[minggu],marker='o',label=minggu)\n",
    "\n",
    "plt.title(\"pengeluaran mahasiswa perminggu\")\n",
    "plt.xlabel(\"Bulan\")\n",
    "plt.ylabel(\"Tren Pengeluaran Mahasiswa\")\n",
    "plt.legend()\n",
    "plt.grid(True)\n",
    "plt.show()"
   ]
  },
  {
   "cell_type": "code",
   "execution_count": null,
   "id": "3be8bffc-d781-4a0e-b9ea-cf3d96ffe8cb",
   "metadata": {},
   "outputs": [],
   "source": [
    "#Pie\n",
    "plt.figure(figsize=(4,4))\n",
    "plt.pie(df['Total_Pengeluaran'],labels=df['Bulan'],autopct='%1.1f%%')\n",
    "plt.show()"
   ]
  },
  {
   "cell_type": "code",
   "execution_count": null,
   "id": "bdd6a6a9-deee-4f30-9c43-234f66114d93",
   "metadata": {},
   "outputs": [],
   "source": [
    "#Regresi Linear\n",
    "#Opensource -> scikit -> sklearn\n",
    "from sklearn.linear_model import LinearRegression\n",
    "\n",
    "df['Bulan_Angka'] = np.arange(1,13)\n",
    "\n",
    "x = df[['Bulan_Angka']]\n",
    "y = df['Total_Pengeluaran']\n",
    "\n",
    "model = LinearRegression()\n",
    "model.fit(x,y)\n",
    "\n",
    "bulan_13 = model.predict([[13]])[0]\n",
    "\n",
    "print(f\"Predisksi Pengeluaran Mahasiswa Januari 2026:{bulan_13:,.0f}\")"
   ]
  },
  {
   "cell_type": "code",
   "execution_count": null,
   "id": "ae6f255a-c815-418c-b1f2-8798e62b41d8",
   "metadata": {},
   "outputs": [],
   "source": []
  },
  {
   "cell_type": "code",
   "execution_count": null,
   "id": "eadd3522-a071-478e-a5ff-2abf95772a3e",
   "metadata": {},
   "outputs": [],
   "source": []
  }
 ],
 "metadata": {
  "kernelspec": {
   "display_name": "Python [conda env:base] *",
   "language": "python",
   "name": "conda-base-py"
  },
  "language_info": {
   "codemirror_mode": {
    "name": "ipython",
    "version": 3
   },
   "file_extension": ".py",
   "mimetype": "text/x-python",
   "name": "python",
   "nbconvert_exporter": "python",
   "pygments_lexer": "ipython3",
   "version": "3.12.7"
  }
 },
 "nbformat": 4,
 "nbformat_minor": 5
}
