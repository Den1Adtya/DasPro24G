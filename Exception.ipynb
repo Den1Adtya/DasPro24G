{
 "cells": [
  {
   "cell_type": "code",
   "execution_count": null,
   "id": "cb0a723b-a120-4cb4-b6fb-bc66923a9ef8",
   "metadata": {},
   "outputs": [],
   "source": [
    "angka1 = int(input(\"angka 1:\"))\n",
    "angka2 = int(input(\"angka 2:\"))\n",
    "try:\n",
    "    hasil = angka1 / angka2\n",
    "except ZeroDivisionError:\n",
    "    print (\"tidak boleh pembagian dengan 0\")\n",
    "else:\n",
    "    print(f\"hasil pembagian {angka1} dan {angka2} = {hasil}\")\n",
    "finally:\n",
    "    print(\"program selesai\")"
   ]
  },
  {
   "cell_type": "code",
   "execution_count": null,
   "id": "0ee8de74-8d20-492b-b45d-03229fd9aa8f",
   "metadata": {},
   "outputs": [],
   "source": [
    "try:\n",
    "    angka1 = int(input(\"angka 1:\"))\n",
    "    angka2 = int(input(\"angka 2:\"))\n",
    "    hasil = angka1 / angka2\n",
    "except (ValueError,ZeroDivisionError) as err:\n",
    "    print(err)\n",
    "else:\n",
    "    print(f\"hasil pembagian {angka1} dan {angka2} = {hasil}\")\n",
    "finally:\n",
    "    print(\"program selesai\")"
   ]
  },
  {
   "cell_type": "code",
   "execution_count": null,
   "id": "40798c97-c90e-4da2-83d7-bc4a79f6e60d",
   "metadata": {},
   "outputs": [],
   "source": [
    "#indeks error\n",
    "list = [8,3,6]\n",
    "try:\n",
    "    print(list[3])\n",
    "except IndexError:\n",
    "    print(\"Lewih Teing\")\n",
    "finally:\n",
    "    print(\"program selesai\")"
   ]
  },
  {
   "cell_type": "code",
   "execution_count": null,
   "id": "d875b67d-49b0-48bb-bb1b-cdc542ad09c8",
   "metadata": {},
   "outputs": [],
   "source": [
    "try:\n",
    "    jumlahData = int(input('jumlah data yang akan dimasukkan:'))\n",
    "    listNama = []\n",
    "    for i in range (0,jumlahData):\n",
    "        nama= input (\"isikan nama siswa\")\n",
    "        listNama.append(nama)\n",
    "    indeks = int(input(\"No urut berapa yang akan ditampilkan?\"))\n",
    "    print (f\"Nama Siswa ke{indeks} : {listNama[indeks-1]}\")\n",
    "except (ValueError,IndexError)as err:\n",
    "    print(err)\n",
    "else:\n",
    "    print(listNama)\n",
    "finally:\n",
    "    print(\"Load Data Selesai\")"
   ]
  },
  {
   "cell_type": "code",
   "execution_count": null,
   "id": "63b6ef8f-4e13-4092-9e0a-9bfb32ad6b18",
   "metadata": {},
   "outputs": [],
   "source": [
    "#key error\n",
    "data = {\n",
    "    'day' : ['mon','tue','wed','thu','fri','sat']\n",
    "}\n",
    "try:\n",
    "    print(data['month'])\n",
    "except KeyError:\n",
    "    print(\"tidak ada atribut yang sama\")\n",
    "else:\n",
    "    print(data)\n",
    "finally:\n",
    "    print(\"Program Selesai\")"
   ]
  },
  {
   "cell_type": "code",
   "execution_count": null,
   "id": "d535841a-1111-40d1-9321-82987f92dd46",
   "metadata": {},
   "outputs": [],
   "source": [
    "#special exception\n",
    "class UmurException(Exception):\n",
    "    pass\n",
    "def cekUmur(umur):\n",
    "    if (umur<=17):\n",
    "        raise UmurException(\"Film Dewasa harus diatas 17 tahun\")\n",
    "\n",
    "try:\n",
    "    cekUmur(20)\n",
    "    print(\"Selamat Datang\")\n",
    "except UmurException as ue:\n",
    "    print(ue)\n",
    "else:\n",
    "    print(\"pilih film sesuai umur anda\")\n",
    "finally:\n",
    "    print(\"Program Selesai\")"
   ]
  },
  {
   "cell_type": "code",
   "execution_count": null,
   "id": "b531e34f-9f07-4169-b4b7-5d8180abf468",
   "metadata": {},
   "outputs": [],
   "source": [
    "#file handling\n",
    "#open(nama_file,mode) -> file dengan tipe plain teks\n",
    "#mode -> a (append) , r (read), w (write)\n",
    "\n",
    "try:\n",
    "    f = open ('data_calon_nasabah.csv','r')\n",
    "    teks = f.read()\n",
    "    print(teks)\n",
    "except FileNotFoundError:\n",
    "    print (\"file tidak ditemukan\")\n",
    "else:\n",
    "    print(\"load data selesai\")\n",
    "finally:\n",
    "    f.close()"
   ]
  },
  {
   "cell_type": "code",
   "execution_count": null,
   "id": "304cb704-e6b7-423e-880b-f6d160ea867b",
   "metadata": {},
   "outputs": [],
   "source": [
    "try:\n",
    "    with open('data.txt','w') as f:\n",
    "        f.write(\"apa kabar !!!\\n\")\n",
    "        f.write(\"semoga kabarmu baik hari ini !!\\n\")\n",
    "        f.write(\"sebentar lagi kita uas !\\n\")\n",
    "except "
   ]
  },
  {
   "cell_type": "code",
   "execution_count": null,
   "id": "676c9bf2-1af6-40be-9f83-b55bfb2253a9",
   "metadata": {},
   "outputs": [],
   "source": []
  },
  {
   "cell_type": "code",
   "execution_count": null,
   "id": "24a26969-4129-407b-824b-6a2eee1a1725",
   "metadata": {},
   "outputs": [],
   "source": []
  },
  {
   "cell_type": "code",
   "execution_count": null,
   "id": "ae6f255a-c815-418c-b1f2-8798e62b41d8",
   "metadata": {},
   "outputs": [],
   "source": []
  },
  {
   "cell_type": "code",
   "execution_count": null,
   "id": "eadd3522-a071-478e-a5ff-2abf95772a3e",
   "metadata": {},
   "outputs": [],
   "source": []
  }
 ],
 "metadata": {
  "kernelspec": {
   "display_name": "Python [conda env:base] *",
   "language": "python",
   "name": "conda-base-py"
  },
  "language_info": {
   "codemirror_mode": {
    "name": "ipython",
    "version": 3
   },
   "file_extension": ".py",
   "mimetype": "text/x-python",
   "name": "python",
   "nbconvert_exporter": "python",
   "pygments_lexer": "ipython3",
   "version": "3.12.7"
  }
 },
 "nbformat": 4,
 "nbformat_minor": 5
}
